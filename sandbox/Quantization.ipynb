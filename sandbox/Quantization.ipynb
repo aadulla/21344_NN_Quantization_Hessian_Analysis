{
 "cells": [
  {
   "cell_type": "code",
   "execution_count": 1,
   "id": "70b7f33e",
   "metadata": {},
   "outputs": [],
   "source": [
    "import numpy as np\n",
    "import torch"
   ]
  },
  {
   "cell_type": "code",
   "execution_count": 2,
   "id": "26705af8",
   "metadata": {},
   "outputs": [],
   "source": [
    "raw_t = np.array([[0.5244, 0.6844, 1.8133], \n",
    "                  [-0.2222, -0.4522, 0]])"
   ]
  },
  {
   "cell_type": "code",
   "execution_count": 24,
   "id": "9acfaa50",
   "metadata": {},
   "outputs": [
    {
     "data": {
      "text/plain": [
       "{'tensor': tensor([[ -18.,    0.,  127.],\n",
       "         [-102., -128.,  -77.]], dtype=torch.float64),\n",
       " 'scale': tensor(0.0089, dtype=torch.float64),\n",
       " 'zero_point': -77}"
      ]
     },
     "execution_count": 24,
     "metadata": {},
     "output_type": "execute_result"
    }
   ],
   "source": [
    "float_t = torch.from_numpy(raw_t)\n",
    "\n",
    "def quantize_tensor(x, num_bits=8):\n",
    "    qmin = -128\n",
    "    qmax = 127\n",
    "    min_val, max_val = x.min(), x.max()\n",
    "\n",
    "    scale = (max_val - min_val) / (qmax - qmin)\n",
    "\n",
    "    initial_zero_point = qmin - min_val / scale\n",
    "\n",
    "    zero_point = 0\n",
    "    if initial_zero_point < qmin:\n",
    "        zero_point = qmin\n",
    "    elif initial_zero_point > qmax:\n",
    "        zero_point = qmax\n",
    "    else:\n",
    "        zero_point = initial_zero_point\n",
    "\n",
    "    zero_point = int(zero_point)\n",
    "    q_x = zero_point + x / scale\n",
    "    q_x.clamp_(qmin, qmax)\n",
    "    q_x = q_x.round()\n",
    "    return {\"tensor\": q_x, \"scale\": scale, \"zero_point\": zero_point}\n",
    "\n",
    "q_dict = quantize_tensor(float_t)\n",
    "q_dict"
   ]
  },
  {
   "cell_type": "code",
   "execution_count": 17,
   "id": "ee2615e5",
   "metadata": {},
   "outputs": [
    {
     "data": {
      "text/plain": [
       "tensor([[ 0.5244,  0.6844,  1.8133],\n",
       "        [-0.2222, -0.4522,  0.0000]], dtype=torch.float64)"
      ]
     },
     "execution_count": 17,
     "metadata": {},
     "output_type": "execute_result"
    }
   ],
   "source": [
    "float_t"
   ]
  },
  {
   "cell_type": "code",
   "execution_count": 19,
   "id": "a3fb7b26",
   "metadata": {},
   "outputs": [
    {
     "data": {
      "text/plain": [
       "tensor([[ 0.5244,  0.6844,  1.8133],\n",
       "        [-0.2222, -0.4522,  0.0000]])"
      ]
     },
     "execution_count": 19,
     "metadata": {},
     "output_type": "execute_result"
    }
   ],
   "source": [
    "float_t2 = torch.randn(2, 3)\n",
    "for i in range(2):\n",
    "    for j in range(3):\n",
    "        float_t2[i][j] = float_t[i][j]\n",
    "float_t2"
   ]
  },
  {
   "cell_type": "code",
   "execution_count": 1,
   "id": "84a71420",
   "metadata": {},
   "outputs": [
    {
     "ename": "NameError",
     "evalue": "name 'float_t' is not defined",
     "output_type": "error",
     "traceback": [
      "\u001b[0;31m---------------------------------------------------------------------------\u001b[0m",
      "\u001b[0;31mNameError\u001b[0m                                 Traceback (most recent call last)",
      "\u001b[0;32m<ipython-input-1-afbc6fe1fc77>\u001b[0m in \u001b[0;36m<module>\u001b[0;34m\u001b[0m\n\u001b[0;32m----> 1\u001b[0;31m \u001b[0mfloat_t\u001b[0m\u001b[0;34m\u001b[0m\u001b[0;34m\u001b[0m\u001b[0m\n\u001b[0m",
      "\u001b[0;31mNameError\u001b[0m: name 'float_t' is not defined"
     ]
    }
   ],
   "source": [
    "float_t"
   ]
  },
  {
   "cell_type": "code",
   "execution_count": null,
   "id": "cb65fdfa",
   "metadata": {},
   "outputs": [],
   "source": []
  }
 ],
 "metadata": {
  "kernelspec": {
   "display_name": "Python 3",
   "language": "python",
   "name": "python3"
  },
  "language_info": {
   "codemirror_mode": {
    "name": "ipython",
    "version": 3
   },
   "file_extension": ".py",
   "mimetype": "text/x-python",
   "name": "python",
   "nbconvert_exporter": "python",
   "pygments_lexer": "ipython3",
   "version": "3.8.5"
  }
 },
 "nbformat": 4,
 "nbformat_minor": 5
}
